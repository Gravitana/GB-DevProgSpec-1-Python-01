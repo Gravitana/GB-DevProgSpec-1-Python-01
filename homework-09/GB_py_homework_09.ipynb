{
  "nbformat": 4,
  "nbformat_minor": 0,
  "metadata": {
    "colab": {
      "provenance": [],
      "authorship_tag": "ABX9TyPaLQeSmz92fcO0qK4xCPwa",
      "include_colab_link": true
    },
    "kernelspec": {
      "name": "python3",
      "display_name": "Python 3"
    },
    "language_info": {
      "name": "python"
    }
  },
  "cells": [
    {
      "cell_type": "markdown",
      "metadata": {
        "id": "view-in-github",
        "colab_type": "text"
      },
      "source": [
        "<a href=\"https://colab.research.google.com/github/Gravitana/GB-Python/blob/master/homework-09/GB_py_homework_09.ipynb\" target=\"_parent\"><img src=\"https://colab.research.google.com/assets/colab-badge.svg\" alt=\"Open In Colab\"/></a>"
      ]
    },
    {
      "cell_type": "code",
      "execution_count": 19,
      "metadata": {
        "id": "LWVcyPjic439",
        "colab": {
          "base_uri": "https://localhost:8080/"
        },
        "outputId": "452b2601-3b70-470e-cf9d-eedd97bd62ae"
      },
      "outputs": [
        {
          "output_type": "execute_result",
          "data": {
            "text/plain": [
              "206799.95140186916"
            ]
          },
          "metadata": {},
          "execution_count": 19
        }
      ],
      "source": [
        "\"\"\"\n",
        "Задача 40: Работать с файлом california_housing_train.csv, который находится в папке sample_data.\n",
        "Определить среднюю стоимость дома, где кол-во людей от 0 до 500 (population).\n",
        "\"\"\"\n",
        "\n",
        "import pandas as pd\n",
        "\n",
        "df = pd.read_csv('sample_data/california_housing_train.csv')\n",
        "\n",
        "pop_min = df[df['population'] <= 500]\n",
        "pop_min['median_house_value'].mean()"
      ]
    },
    {
      "cell_type": "code",
      "source": [
        "\"\"\"\n",
        "Задача 42: Узнать какая максимальная households в зоне минимального значения population.\n",
        "\"\"\"\n",
        "\n",
        "pop_min['households'].max()"
      ],
      "metadata": {
        "colab": {
          "base_uri": "https://localhost:8080/"
        },
        "id": "6buZE-R1XiQS",
        "outputId": "0b9f6e72-7e4e-49ee-9569-e15146777fcf"
      },
      "execution_count": 20,
      "outputs": [
        {
          "output_type": "execute_result",
          "data": {
            "text/plain": [
              "348.0"
            ]
          },
          "metadata": {},
          "execution_count": 20
        }
      ]
    }
  ]
}